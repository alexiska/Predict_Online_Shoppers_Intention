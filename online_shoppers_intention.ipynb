{
 "cells": [
  {
   "cell_type": "markdown",
   "metadata": {},
   "source": [
    "# Online shoppers intention\n",
    "\n",
    "## Table of contents\n",
    "* [EDA](#eda-exploratory-data-analysis)\n",
    "* [Machine Learning](#machine-learning)\n",
    "    * [Optimize hyperparameters with GridSearchCV](#optimize)   \n",
    "* [Model evaluation](#evaluation)\n",
    "    * [Confusion Matrix](#cmatrix)\n",
    "    * [Precision-Recall curve](#pr-curve)\n",
    "* [Over-sampling with SMOTE](#smote)\n",
    "* [Conclusion](#conclusion)"
   ]
  },
  {
   "cell_type": "markdown",
   "metadata": {},
   "source": [
    "# EDA (Exploratory Data Analysis)"
   ]
  },
  {
   "cell_type": "code",
   "execution_count": 1,
   "metadata": {},
   "outputs": [],
   "source": [
    "import pandas as pd \n",
    "import numpy as np\n",
    "import matplotlib.pyplot as plt\n",
    "import seaborn as sns\n",
    "from sklearn.linear_model import LogisticRegression            \n",
    "from sklearn import svm\n",
    "from sklearn.model_selection import GridSearchCV\n",
    "from sklearn.model_selection import  cross_val_score, KFold\n",
    "from sklearn.model_selection import train_test_split\n",
    "from sklearn.metrics import plot_precision_recall_curve\n",
    "from sklearn.metrics import confusion_matrix, precision_recall_curve\n",
    "from sklearn.metrics import classification_report\n",
    "from imblearn.over_sampling import SMOTE\n",
    "\n",
    "df = pd.read_csv('online_shoppers_intention.csv')"
   ]
  },
  {
   "cell_type": "code",
   "execution_count": 2,
   "metadata": {},
   "outputs": [
    {
     "data": {
      "text/html": [
       "<div>\n",
       "<style scoped>\n",
       "    .dataframe tbody tr th:only-of-type {\n",
       "        vertical-align: middle;\n",
       "    }\n",
       "\n",
       "    .dataframe tbody tr th {\n",
       "        vertical-align: top;\n",
       "    }\n",
       "\n",
       "    .dataframe thead th {\n",
       "        text-align: right;\n",
       "    }\n",
       "</style>\n",
       "<table border=\"1\" class=\"dataframe\">\n",
       "  <thead>\n",
       "    <tr style=\"text-align: right;\">\n",
       "      <th></th>\n",
       "      <th>Administrative</th>\n",
       "      <th>Administrative_Duration</th>\n",
       "      <th>Informational</th>\n",
       "      <th>Informational_Duration</th>\n",
       "      <th>ProductRelated</th>\n",
       "      <th>ProductRelated_Duration</th>\n",
       "      <th>BounceRates</th>\n",
       "      <th>ExitRates</th>\n",
       "      <th>PageValues</th>\n",
       "      <th>SpecialDay</th>\n",
       "      <th>Month</th>\n",
       "      <th>OperatingSystems</th>\n",
       "      <th>Browser</th>\n",
       "      <th>Region</th>\n",
       "      <th>TrafficType</th>\n",
       "      <th>VisitorType</th>\n",
       "      <th>Weekend</th>\n",
       "      <th>Revenue</th>\n",
       "    </tr>\n",
       "  </thead>\n",
       "  <tbody>\n",
       "    <tr>\n",
       "      <th>0</th>\n",
       "      <td>0</td>\n",
       "      <td>0.0</td>\n",
       "      <td>0</td>\n",
       "      <td>0.0</td>\n",
       "      <td>1</td>\n",
       "      <td>0.000000</td>\n",
       "      <td>0.20</td>\n",
       "      <td>0.20</td>\n",
       "      <td>0.0</td>\n",
       "      <td>0.0</td>\n",
       "      <td>Feb</td>\n",
       "      <td>1</td>\n",
       "      <td>1</td>\n",
       "      <td>1</td>\n",
       "      <td>1</td>\n",
       "      <td>Returning_Visitor</td>\n",
       "      <td>False</td>\n",
       "      <td>False</td>\n",
       "    </tr>\n",
       "    <tr>\n",
       "      <th>1</th>\n",
       "      <td>0</td>\n",
       "      <td>0.0</td>\n",
       "      <td>0</td>\n",
       "      <td>0.0</td>\n",
       "      <td>2</td>\n",
       "      <td>64.000000</td>\n",
       "      <td>0.00</td>\n",
       "      <td>0.10</td>\n",
       "      <td>0.0</td>\n",
       "      <td>0.0</td>\n",
       "      <td>Feb</td>\n",
       "      <td>2</td>\n",
       "      <td>2</td>\n",
       "      <td>1</td>\n",
       "      <td>2</td>\n",
       "      <td>Returning_Visitor</td>\n",
       "      <td>False</td>\n",
       "      <td>False</td>\n",
       "    </tr>\n",
       "    <tr>\n",
       "      <th>2</th>\n",
       "      <td>0</td>\n",
       "      <td>0.0</td>\n",
       "      <td>0</td>\n",
       "      <td>0.0</td>\n",
       "      <td>1</td>\n",
       "      <td>0.000000</td>\n",
       "      <td>0.20</td>\n",
       "      <td>0.20</td>\n",
       "      <td>0.0</td>\n",
       "      <td>0.0</td>\n",
       "      <td>Feb</td>\n",
       "      <td>4</td>\n",
       "      <td>1</td>\n",
       "      <td>9</td>\n",
       "      <td>3</td>\n",
       "      <td>Returning_Visitor</td>\n",
       "      <td>False</td>\n",
       "      <td>False</td>\n",
       "    </tr>\n",
       "    <tr>\n",
       "      <th>3</th>\n",
       "      <td>0</td>\n",
       "      <td>0.0</td>\n",
       "      <td>0</td>\n",
       "      <td>0.0</td>\n",
       "      <td>2</td>\n",
       "      <td>2.666667</td>\n",
       "      <td>0.05</td>\n",
       "      <td>0.14</td>\n",
       "      <td>0.0</td>\n",
       "      <td>0.0</td>\n",
       "      <td>Feb</td>\n",
       "      <td>3</td>\n",
       "      <td>2</td>\n",
       "      <td>2</td>\n",
       "      <td>4</td>\n",
       "      <td>Returning_Visitor</td>\n",
       "      <td>False</td>\n",
       "      <td>False</td>\n",
       "    </tr>\n",
       "    <tr>\n",
       "      <th>4</th>\n",
       "      <td>0</td>\n",
       "      <td>0.0</td>\n",
       "      <td>0</td>\n",
       "      <td>0.0</td>\n",
       "      <td>10</td>\n",
       "      <td>627.500000</td>\n",
       "      <td>0.02</td>\n",
       "      <td>0.05</td>\n",
       "      <td>0.0</td>\n",
       "      <td>0.0</td>\n",
       "      <td>Feb</td>\n",
       "      <td>3</td>\n",
       "      <td>3</td>\n",
       "      <td>1</td>\n",
       "      <td>4</td>\n",
       "      <td>Returning_Visitor</td>\n",
       "      <td>True</td>\n",
       "      <td>False</td>\n",
       "    </tr>\n",
       "  </tbody>\n",
       "</table>\n",
       "</div>"
      ],
      "text/plain": [
       "   Administrative  Administrative_Duration  Informational  \\\n",
       "0               0                      0.0              0   \n",
       "1               0                      0.0              0   \n",
       "2               0                      0.0              0   \n",
       "3               0                      0.0              0   \n",
       "4               0                      0.0              0   \n",
       "\n",
       "   Informational_Duration  ProductRelated  ProductRelated_Duration  \\\n",
       "0                     0.0               1                 0.000000   \n",
       "1                     0.0               2                64.000000   \n",
       "2                     0.0               1                 0.000000   \n",
       "3                     0.0               2                 2.666667   \n",
       "4                     0.0              10               627.500000   \n",
       "\n",
       "   BounceRates  ExitRates  PageValues  SpecialDay Month  OperatingSystems  \\\n",
       "0         0.20       0.20         0.0         0.0   Feb                 1   \n",
       "1         0.00       0.10         0.0         0.0   Feb                 2   \n",
       "2         0.20       0.20         0.0         0.0   Feb                 4   \n",
       "3         0.05       0.14         0.0         0.0   Feb                 3   \n",
       "4         0.02       0.05         0.0         0.0   Feb                 3   \n",
       "\n",
       "   Browser  Region  TrafficType        VisitorType  Weekend  Revenue  \n",
       "0        1       1            1  Returning_Visitor    False    False  \n",
       "1        2       1            2  Returning_Visitor    False    False  \n",
       "2        1       9            3  Returning_Visitor    False    False  \n",
       "3        2       2            4  Returning_Visitor    False    False  \n",
       "4        3       1            4  Returning_Visitor     True    False  "
      ]
     },
     "execution_count": 2,
     "metadata": {},
     "output_type": "execute_result"
    }
   ],
   "source": [
    "# A climpse of how the dataframe \n",
    "df.head()"
   ]
  },
  {
   "cell_type": "code",
   "execution_count": 3,
   "metadata": {},
   "outputs": [
    {
     "name": "stdout",
     "output_type": "stream",
     "text": [
      "<class 'pandas.core.frame.DataFrame'>\n",
      "RangeIndex: 12330 entries, 0 to 12329\n",
      "Data columns (total 18 columns):\n",
      " #   Column                   Non-Null Count  Dtype  \n",
      "---  ------                   --------------  -----  \n",
      " 0   Administrative           12330 non-null  int64  \n",
      " 1   Administrative_Duration  12330 non-null  float64\n",
      " 2   Informational            12330 non-null  int64  \n",
      " 3   Informational_Duration   12330 non-null  float64\n",
      " 4   ProductRelated           12330 non-null  int64  \n",
      " 5   ProductRelated_Duration  12330 non-null  float64\n",
      " 6   BounceRates              12330 non-null  float64\n",
      " 7   ExitRates                12330 non-null  float64\n",
      " 8   PageValues               12330 non-null  float64\n",
      " 9   SpecialDay               12330 non-null  float64\n",
      " 10  Month                    12330 non-null  object \n",
      " 11  OperatingSystems         12330 non-null  int64  \n",
      " 12  Browser                  12330 non-null  int64  \n",
      " 13  Region                   12330 non-null  int64  \n",
      " 14  TrafficType              12330 non-null  int64  \n",
      " 15  VisitorType              12330 non-null  object \n",
      " 16  Weekend                  12330 non-null  bool   \n",
      " 17  Revenue                  12330 non-null  bool   \n",
      "dtypes: bool(2), float64(7), int64(7), object(2)\n",
      "memory usage: 1.5+ MB\n"
     ]
    }
   ],
   "source": [
    "# Get a picture of data type for each feature\n",
    "df.info()"
   ]
  },
  {
   "cell_type": "code",
   "execution_count": 4,
   "metadata": {},
   "outputs": [
    {
     "data": {
      "text/html": [
       "<div>\n",
       "<style scoped>\n",
       "    .dataframe tbody tr th:only-of-type {\n",
       "        vertical-align: middle;\n",
       "    }\n",
       "\n",
       "    .dataframe tbody tr th {\n",
       "        vertical-align: top;\n",
       "    }\n",
       "\n",
       "    .dataframe thead th {\n",
       "        text-align: right;\n",
       "    }\n",
       "</style>\n",
       "<table border=\"1\" class=\"dataframe\">\n",
       "  <thead>\n",
       "    <tr style=\"text-align: right;\">\n",
       "      <th></th>\n",
       "      <th>Administrative</th>\n",
       "      <th>Administrative_Duration</th>\n",
       "      <th>Informational</th>\n",
       "      <th>Informational_Duration</th>\n",
       "      <th>ProductRelated</th>\n",
       "      <th>ProductRelated_Duration</th>\n",
       "      <th>BounceRates</th>\n",
       "      <th>ExitRates</th>\n",
       "      <th>PageValues</th>\n",
       "      <th>SpecialDay</th>\n",
       "      <th>OperatingSystems</th>\n",
       "      <th>Browser</th>\n",
       "      <th>Region</th>\n",
       "      <th>TrafficType</th>\n",
       "    </tr>\n",
       "  </thead>\n",
       "  <tbody>\n",
       "    <tr>\n",
       "      <th>count</th>\n",
       "      <td>12330.000000</td>\n",
       "      <td>12330.000000</td>\n",
       "      <td>12330.000000</td>\n",
       "      <td>12330.000000</td>\n",
       "      <td>12330.000000</td>\n",
       "      <td>12330.000000</td>\n",
       "      <td>12330.000000</td>\n",
       "      <td>12330.000000</td>\n",
       "      <td>12330.000000</td>\n",
       "      <td>12330.000000</td>\n",
       "      <td>12330.000000</td>\n",
       "      <td>12330.000000</td>\n",
       "      <td>12330.000000</td>\n",
       "      <td>12330.000000</td>\n",
       "    </tr>\n",
       "    <tr>\n",
       "      <th>mean</th>\n",
       "      <td>2.315166</td>\n",
       "      <td>80.818611</td>\n",
       "      <td>0.503569</td>\n",
       "      <td>34.472398</td>\n",
       "      <td>31.731468</td>\n",
       "      <td>1194.746220</td>\n",
       "      <td>0.022191</td>\n",
       "      <td>0.043073</td>\n",
       "      <td>5.889258</td>\n",
       "      <td>0.061427</td>\n",
       "      <td>2.124006</td>\n",
       "      <td>2.357097</td>\n",
       "      <td>3.147364</td>\n",
       "      <td>4.069586</td>\n",
       "    </tr>\n",
       "    <tr>\n",
       "      <th>std</th>\n",
       "      <td>3.321784</td>\n",
       "      <td>176.779107</td>\n",
       "      <td>1.270156</td>\n",
       "      <td>140.749294</td>\n",
       "      <td>44.475503</td>\n",
       "      <td>1913.669288</td>\n",
       "      <td>0.048488</td>\n",
       "      <td>0.048597</td>\n",
       "      <td>18.568437</td>\n",
       "      <td>0.198917</td>\n",
       "      <td>0.911325</td>\n",
       "      <td>1.717277</td>\n",
       "      <td>2.401591</td>\n",
       "      <td>4.025169</td>\n",
       "    </tr>\n",
       "    <tr>\n",
       "      <th>min</th>\n",
       "      <td>0.000000</td>\n",
       "      <td>0.000000</td>\n",
       "      <td>0.000000</td>\n",
       "      <td>0.000000</td>\n",
       "      <td>0.000000</td>\n",
       "      <td>0.000000</td>\n",
       "      <td>0.000000</td>\n",
       "      <td>0.000000</td>\n",
       "      <td>0.000000</td>\n",
       "      <td>0.000000</td>\n",
       "      <td>1.000000</td>\n",
       "      <td>1.000000</td>\n",
       "      <td>1.000000</td>\n",
       "      <td>1.000000</td>\n",
       "    </tr>\n",
       "    <tr>\n",
       "      <th>25%</th>\n",
       "      <td>0.000000</td>\n",
       "      <td>0.000000</td>\n",
       "      <td>0.000000</td>\n",
       "      <td>0.000000</td>\n",
       "      <td>7.000000</td>\n",
       "      <td>184.137500</td>\n",
       "      <td>0.000000</td>\n",
       "      <td>0.014286</td>\n",
       "      <td>0.000000</td>\n",
       "      <td>0.000000</td>\n",
       "      <td>2.000000</td>\n",
       "      <td>2.000000</td>\n",
       "      <td>1.000000</td>\n",
       "      <td>2.000000</td>\n",
       "    </tr>\n",
       "    <tr>\n",
       "      <th>50%</th>\n",
       "      <td>1.000000</td>\n",
       "      <td>7.500000</td>\n",
       "      <td>0.000000</td>\n",
       "      <td>0.000000</td>\n",
       "      <td>18.000000</td>\n",
       "      <td>598.936905</td>\n",
       "      <td>0.003112</td>\n",
       "      <td>0.025156</td>\n",
       "      <td>0.000000</td>\n",
       "      <td>0.000000</td>\n",
       "      <td>2.000000</td>\n",
       "      <td>2.000000</td>\n",
       "      <td>3.000000</td>\n",
       "      <td>2.000000</td>\n",
       "    </tr>\n",
       "    <tr>\n",
       "      <th>75%</th>\n",
       "      <td>4.000000</td>\n",
       "      <td>93.256250</td>\n",
       "      <td>0.000000</td>\n",
       "      <td>0.000000</td>\n",
       "      <td>38.000000</td>\n",
       "      <td>1464.157213</td>\n",
       "      <td>0.016813</td>\n",
       "      <td>0.050000</td>\n",
       "      <td>0.000000</td>\n",
       "      <td>0.000000</td>\n",
       "      <td>3.000000</td>\n",
       "      <td>2.000000</td>\n",
       "      <td>4.000000</td>\n",
       "      <td>4.000000</td>\n",
       "    </tr>\n",
       "    <tr>\n",
       "      <th>max</th>\n",
       "      <td>27.000000</td>\n",
       "      <td>3398.750000</td>\n",
       "      <td>24.000000</td>\n",
       "      <td>2549.375000</td>\n",
       "      <td>705.000000</td>\n",
       "      <td>63973.522230</td>\n",
       "      <td>0.200000</td>\n",
       "      <td>0.200000</td>\n",
       "      <td>361.763742</td>\n",
       "      <td>1.000000</td>\n",
       "      <td>8.000000</td>\n",
       "      <td>13.000000</td>\n",
       "      <td>9.000000</td>\n",
       "      <td>20.000000</td>\n",
       "    </tr>\n",
       "  </tbody>\n",
       "</table>\n",
       "</div>"
      ],
      "text/plain": [
       "       Administrative  Administrative_Duration  Informational  \\\n",
       "count    12330.000000             12330.000000   12330.000000   \n",
       "mean         2.315166                80.818611       0.503569   \n",
       "std          3.321784               176.779107       1.270156   \n",
       "min          0.000000                 0.000000       0.000000   \n",
       "25%          0.000000                 0.000000       0.000000   \n",
       "50%          1.000000                 7.500000       0.000000   \n",
       "75%          4.000000                93.256250       0.000000   \n",
       "max         27.000000              3398.750000      24.000000   \n",
       "\n",
       "       Informational_Duration  ProductRelated  ProductRelated_Duration  \\\n",
       "count            12330.000000    12330.000000             12330.000000   \n",
       "mean                34.472398       31.731468              1194.746220   \n",
       "std                140.749294       44.475503              1913.669288   \n",
       "min                  0.000000        0.000000                 0.000000   \n",
       "25%                  0.000000        7.000000               184.137500   \n",
       "50%                  0.000000       18.000000               598.936905   \n",
       "75%                  0.000000       38.000000              1464.157213   \n",
       "max               2549.375000      705.000000             63973.522230   \n",
       "\n",
       "        BounceRates     ExitRates    PageValues    SpecialDay  \\\n",
       "count  12330.000000  12330.000000  12330.000000  12330.000000   \n",
       "mean       0.022191      0.043073      5.889258      0.061427   \n",
       "std        0.048488      0.048597     18.568437      0.198917   \n",
       "min        0.000000      0.000000      0.000000      0.000000   \n",
       "25%        0.000000      0.014286      0.000000      0.000000   \n",
       "50%        0.003112      0.025156      0.000000      0.000000   \n",
       "75%        0.016813      0.050000      0.000000      0.000000   \n",
       "max        0.200000      0.200000    361.763742      1.000000   \n",
       "\n",
       "       OperatingSystems       Browser        Region   TrafficType  \n",
       "count      12330.000000  12330.000000  12330.000000  12330.000000  \n",
       "mean           2.124006      2.357097      3.147364      4.069586  \n",
       "std            0.911325      1.717277      2.401591      4.025169  \n",
       "min            1.000000      1.000000      1.000000      1.000000  \n",
       "25%            2.000000      2.000000      1.000000      2.000000  \n",
       "50%            2.000000      2.000000      3.000000      2.000000  \n",
       "75%            3.000000      2.000000      4.000000      4.000000  \n",
       "max            8.000000     13.000000      9.000000     20.000000  "
      ]
     },
     "execution_count": 4,
     "metadata": {},
     "output_type": "execute_result"
    }
   ],
   "source": [
    "# Descriptive statistic for the numberical features\n",
    "df.describe()"
   ]
  },
  {
   "cell_type": "code",
   "execution_count": 5,
   "metadata": {},
   "outputs": [
    {
     "data": {
      "text/plain": [
       "0"
      ]
     },
     "execution_count": 5,
     "metadata": {},
     "output_type": "execute_result"
    }
   ],
   "source": [
    "# Check for null values\n",
    "df.isnull().sum().sum()"
   ]
  },
  {
   "cell_type": "code",
   "execution_count": 6,
   "metadata": {},
   "outputs": [
    {
     "data": {
      "image/png": "[encoded data removed]",
      "text/plain": [
       "<Figure size 432x288 with 1 Axes>"
      ]
     },
     "metadata": {
      "needs_background": "light"
     },
     "output_type": "display_data"
    }
   ],
   "source": [
    "# Check the class balance that I will predict later\n",
    "df['Revenue'].value_counts().plot(kind='bar',rot=0)\n",
    "plt.title('Number of revenue')\n",
    "plt.show()"
   ]
  },
  {
   "cell_type": "markdown",
   "metadata": {},
   "source": [
    "The classes is imbalanced. This is something that should be taken into account later when creating a predictive model.\n",
    "\n",
    "For now let's continue with exploring the data."
   ]
  },
  {
   "cell_type": "code",
   "execution_count": 7,
   "metadata": {},
   "outputs": [
    {
     "data": {
      "image/png": "[encoded data removed]",
      "text/plain": [
       "<Figure size 864x360 with 4 Axes>"
      ]
     },
     "metadata": {
      "needs_background": "light"
     },
     "output_type": "display_data"
    }
   ],
   "source": [
    "figure, axes = plt.subplots(2,2, figsize=(12,5),constrained_layout=True)\n",
    "df['VisitorType'].value_counts().plot(kind='bar',ax=axes[0][0],title='VisitorType',rot=0)\n",
    "df['Browser'].value_counts().plot(kind='bar',ax=axes[0][1],title='Browser',rot=0)\n",
    "df['Region'].value_counts().plot(kind='bar',ax=axes[1][0],title='Region',rot=0)\n",
    "df['TrafficType'].value_counts().plot(kind='bar',ax=axes[1][1],title='TrafficType',rot=0)\n",
    "plt.show()"
   ]
  },
  {
   "cell_type": "markdown",
   "metadata": {},
   "source": [
    "From the four plots, one can see that each feature has some class/types that are more dominating than the others. "
   ]
  },
  {
   "cell_type": "code",
   "execution_count": 8,
   "metadata": {},
   "outputs": [
    {
     "data": {
      "image/png": "[encoded data removed]",
      "text/plain": [
       "<Figure size 432x288 with 1 Axes>"
      ]
     },
     "metadata": {
      "needs_background": "light"
     },
     "output_type": "display_data"
    }
   ],
   "source": [
    "df.groupby(['Region','Revenue'])['SpecialDay'].count().unstack().plot(kind='bar',title='Number of revenue per region',rot=0)\n",
    "\n",
    "plt.show()"
   ]
  },
  {
   "cell_type": "code",
   "execution_count": 9,
   "metadata": {
    "scrolled": true
   },
   "outputs": [
    {
     "data": {
      "image/png": "[encoded data removed]",
      "text/plain": [
       "<Figure size 864x360 with 2 Axes>"
      ]
     },
     "metadata": {
      "needs_background": "light"
     },
     "output_type": "display_data"
    }
   ],
   "source": [
    "df_unstacked = df.groupby(['Region','Revenue','VisitorType'])['SpecialDay'].count().unstack()\n",
    "df2 = df_unstacked.reset_index(level='Revenue', col_level=1)\n",
    "df_false = df2.iloc[::2,:]\n",
    "df_true = df2.iloc[1::2,:]\n",
    "figure, axes = plt.subplots(1,2,figsize=(12,5),sharey=True)\n",
    "df_false.plot(kind='bar',stacked=True, ax=axes[0],title='No purchase',rot=0)\n",
    "df_true.plot(kind='bar',stacked=True, ax=axes[1],title='Purchase',rot=0)\n",
    "plt.show()"
   ]
  },
  {
   "cell_type": "markdown",
   "metadata": {},
   "source": [
    "Regions 1 and 3 have more visitors than the other regions. Higher number of visitors correlate with more purchase for these two regions. For the other regions the number of visitors is less and so are the number of purchases.\n",
    "\n",
    "<b>Recommendation 1 for increasing number of visitors:</b> Increase marketing to increase the number of visitors or improve the SEO on the site.\n",
    "\n",
    "<b>Recommendation 2 for increasing number of purchase:</b> Maybe the site needs some change. Try different styles and use A/B tests to verify."
   ]
  },
  {
   "cell_type": "code",
   "execution_count": 10,
   "metadata": {},
   "outputs": [
    {
     "data": {
      "image/png": "[encoded data removed]",
      "text/plain": [
       "<Figure size 864x360 with 2 Axes>"
      ]
     },
     "metadata": {
      "needs_background": "light"
     },
     "output_type": "display_data"
    }
   ],
   "source": [
    "# Make Month column to categorical for sorting later\n",
    "df['Month'] = pd.Categorical(df['Month'],categories=['Feb','Mar','May','June','Jul','Aug','Sep','Oct','Nov','Dec'],ordered=True)\n",
    "\n",
    "df_rev_weekend = df.groupby(['Month','Weekend'])['Revenue'].count().reset_index()\n",
    "df_rev_weekend = df_rev_weekend.sort_values(by='Month',ascending=False)\n",
    "\n",
    "df_rev_visitortype =df.groupby(['Month','VisitorType'])['Revenue'].count().reset_index()\n",
    "df_rev_weekend = df_rev_weekend.sort_values(by='Month',ascending=False)\n",
    "df_rev_visitortype.rename(columns={'Revenue':'# Purchase'},inplace=True)\n",
    "df_rev_weekend.rename(columns={'Revenue':'# Purchase'},inplace=True)\n",
    "\n",
    "figure,axes=plt.subplots(1,2,sharey=True,figsize=(12,5))\n",
    "sns.lineplot(x='Month',y='# Purchase',data=df_rev_visitortype,hue='VisitorType',marker='o',ax=axes[0])\n",
    "axes[0].set_title('Purchase seasonality (VisitorType)')\n",
    "sns.lineplot(x='Month',y='# Purchase',data=df_rev_weekend,hue='Weekend',marker='o',ax=axes[1])\n",
    "axes[1].set_title('Purchase seasonality (Weekend)')\n",
    "\n",
    "\n",
    "plt.show()"
   ]
  },
  {
   "cell_type": "markdown",
   "metadata": {},
   "source": [
    "It looks like the homepage have some difficulties to increase a higher conversion rate after a higher revenue period. From the data it is unclear how big each purchase (amount of money spent on each purchase) is before and after a high revenue activity. Let's assume the the purchase is the same as before high revenue activity.\n",
    "\n",
    "<b>Recommendation 3 for increasing conversion rate:</b> Create a loyalty program for the customers. Try to reach out to the customers with newsletter via email or text messages."
   ]
  },
  {
   "cell_type": "code",
   "execution_count": null,
   "metadata": {
    "scrolled": false
   },
   "outputs": [],
   "source": [
    "df_unstack_traffic = df.groupby(['TrafficType','Revenue'])['Month'].count().unstack()\n",
    "df_unstack_traffic = df_unstack_traffic.fillna(0)\n",
    "df_unstack_traffic.columns.name ='Purchase'\n",
    "\n",
    "df_unstack_browser = df.groupby(['Browser','Revenue'])['Month'].count().unstack()\n",
    "df_unstack_browser = df_unstack_browser.fillna(0)\n",
    "df_unstack_browser.columns.name ='Purchase'\n",
    "\n",
    "figure,axes=plt.subplots(1,2,figsize=(12,5),sharey =True)\n",
    "\n",
    "df_unstack_browser.plot(kind='bar',ax=axes[0],rot=0)\n",
    "axes[0].set_title('Number of purchase per browser type')\n",
    "\n",
    "df_unstack_traffic.plot(kind='bar',ax=axes[1],rot=0)\n",
    "axes[1].set_title('Number of purchase per traffic type')\n",
    "plt.show()\n"
   ]
  },
  {
   "cell_type": "markdown",
   "metadata": {},
   "source": [
    "It is clear that some browser and traffic types are more dominating when it comes to what customers use. \n",
    "\n",
    "<b>Recommendation:</b> Depending on the buisness situation, try to increase the visitors and then conversion rate on the browser and traffic type that have very low numbers or focus more on the types that is generating money already."
   ]
  },
  {
   "cell_type": "code",
   "execution_count": null,
   "metadata": {
    "scrolled": true
   },
   "outputs": [],
   "source": [
    "# Change categorical variables to numerical for machine learning models\n",
    "\n",
    "df['VisitorType'] = df['VisitorType'].map({'New_Visitor':0, 'Returning_Visitor':1,'Other':3})\n",
    "df['Weekend'] = df['Weekend'].map({False:0, True:1})\n",
    "df['Revenue']= df['Revenue'].map({False:0, True:1})\n",
    "df['Month'] = df['Month'].map({'Feb':1,'Mar':2,'May':3,'June':4,'Jul':5,'Aug':6,'Sep':7,'Oct':8,'Nov':9,'Dec':10})"
   ]
  },
  {
   "cell_type": "code",
   "execution_count": null,
   "metadata": {},
   "outputs": [],
   "source": [
    "#df.head()"
   ]
  },
  {
   "cell_type": "markdown",
   "metadata": {},
   "source": [
    "## Machine Learning \n",
    "## Using Logistic regression and support vector machine models"
   ]
  },
  {
   "cell_type": "code",
   "execution_count": 14,
   "metadata": {},
   "outputs": [
    {
     "name": "stdout",
     "output_type": "stream",
     "text": [
      "[0.95900661 0.96019382 0.84862168 0.83772122 0.84564777]\n",
      "\n",
      "Support vector machine\n",
      "[0.95159041 0.97518738 0.82988211 0.76189448 0.7211908 ]\n"
     ]
    }
   ],
   "source": [
    "lr = LogisticRegression(max_iter=10000)\n",
    "svc = svm.SVC()\n",
    "X = df.iloc[:,:-1].values\n",
    "y = df.iloc[:,-1]\n",
    "kfold = KFold(n_splits=5, shuffle=False)\n",
    "print('Logistic Regression')\n",
    "print(cross_val_score(lr, X, y, cv=kfold,scoring='roc_auc'))\n",
    "print('\\nSupport vector machine')\n",
    "print(cross_val_score(svc, X, y, cv=kfold,scoring='roc_auc'))"
   ]
  },
  {
   "cell_type": "markdown",
   "metadata": {},
   "source": [
    "The scores for logistic regression and support vector machine model were performed with cross-validation to have a quick look on how well each model performed. Scoring <i>roc_auc</i> were used due to imbalance in the data set. It appears that SVM has a higher variation in the scores and it is lower than logistic regression scores. Let's try to optimize the model by tuning the hyperparameters with GridSearchsCV."
   ]
  },
  {
   "cell_type": "markdown",
   "metadata": {},
   "source": [
    "## Optimize hyperparameter with GridSearchCV<a id='optimize'></a>"
   ]
  },
  {
   "cell_type": "code",
   "execution_count": 15,
   "metadata": {},
   "outputs": [
    {
     "name": "stdout",
     "output_type": "stream",
     "text": [
      "Best logistic regression cross-validation score:  0.89933761712086\n",
      "Logistic Regression best param:  {'C': 0.001}\n",
      "Best support vector machine cross-validation score: 0.8401370970532641\n",
      "Support vector best param: {'C': 0.1, 'gamma': 0.001}\n"
     ]
    }
   ],
   "source": [
    "lr = LogisticRegression(max_iter=10000)\n",
    "svc = svm.SVC()\n",
    "\n",
    "param_lr = {'C':[0.001, 0.01, 0.1, 1, 10]}\n",
    "\n",
    "param_svc = {'C':[0.001, 0.1, 1, 10],\n",
    "             'gamma': [0.001, 0.1, 1, 10]}\n",
    "\n",
    "svc_grid = GridSearchCV(svc,\n",
    "                        param_svc, \n",
    "                        cv=5, \n",
    "                        scoring='roc_auc')\n",
    "\n",
    "lr_grid = GridSearchCV(lr,\n",
    "                       param_lr, \n",
    "                       cv=5, \n",
    "                       scoring='roc_auc')\n",
    "\n",
    "X_train, X_test, y_train, y_test = train_test_split(X, y, test_size=0.3, random_state=42)\n",
    "svc_grid.fit(X_train,y_train)\n",
    "lr_grid.fit(X_train,y_train)\n",
    "\n",
    "print('Best logistic regression cross-validation score: ',lr_grid.best_score_)\n",
    "print('Logistic Regression best param: ',lr_grid.best_params_)\n",
    "print('Best support vector machine cross-validation score:',svc_grid.best_score_)\n",
    "print('Support vector best param:',svc_grid.best_params_)"
   ]
  },
  {
   "cell_type": "markdown",
   "metadata": {},
   "source": [
    "### Model Evaluation<a id='evaluation'></a>"
   ]
  },
  {
   "cell_type": "code",
   "execution_count": 16,
   "metadata": {},
   "outputs": [
    {
     "name": "stdout",
     "output_type": "stream",
     "text": [
      "score lr:  0.8780751554474182\n",
      "score svc:  0.8448229251148959\n"
     ]
    }
   ],
   "source": [
    "lr = LogisticRegression(max_iter=10000,**lr_grid.best_params_)\n",
    "svc = svm.SVC(**svc_grid.best_params_)\n",
    "lr.fit(X_train,y_train)\n",
    "svc.fit(X_train,y_train)\n",
    "print('score lr: ',lr.score(X_test,y_test))\n",
    "print('score svc: ',svc.score(X_test,y_test))"
   ]
  },
  {
   "cell_type": "markdown",
   "metadata": {},
   "source": [
    "The accuracy score is better for logistic regression. However, data set is imbalanced which makes <i>accuracy score</i> not a good evaluation metrics. Instead of accuracy score, confusion matrix and precision-recall are better metrics to evaluate imbalance data set."
   ]
  },
  {
   "cell_type": "markdown",
   "metadata": {},
   "source": [
    "### Confusion matrix<a id='cmatrix'></a>"
   ]
  },
  {
   "cell_type": "code",
   "execution_count": 17,
   "metadata": {},
   "outputs": [
    {
     "data": {
      "image/png": "[encoded data removed]",
      "text/plain": [
       "<Figure size 720x288 with 4 Axes>"
      ]
     },
     "metadata": {
      "needs_background": "light"
     },
     "output_type": "display_data"
    }
   ],
   "source": [
    "\n",
    "y_pred_lr = lr.predict(X_test)\n",
    "y_pred_svc = svc.predict(X_test)\n",
    "\n",
    "fig, axes = plt.subplots(1,2,figsize=(10,4))\n",
    "sns.heatmap(confusion_matrix(y_test,y_pred_lr),\n",
    "            annot=True,\n",
    "            fmt=\"d\",\n",
    "            cmap=\"BuGn\",\n",
    "            xticklabels=['No Revenue','Revenue'],\n",
    "            yticklabels=['No Revenue','Revenue'],\n",
    "            ax=axes[0])\n",
    "\n",
    "sns.heatmap(confusion_matrix(y_test,y_pred_svc),\n",
    "            annot=True,\n",
    "            fmt=\"d\",\n",
    "            cmap=\"BuGn\",\n",
    "            xticklabels=['No Revenue','Revenue'],\n",
    "            yticklabels=['No Revenue','Revenue'],\n",
    "            ax=axes[1])\n",
    "\n",
    "axes[0].set_xlabel('Predicted values')\n",
    "axes[0].set_title('Logisitic Regression')\n",
    "axes[0].set_ylabel('Actual values')\n",
    "axes[1].set_title('SVM')\n",
    "axes[1].set_xlabel('Predicted values')\n",
    "plt.show()"
   ]
  },
  {
   "cell_type": "markdown",
   "metadata": {},
   "source": [
    "Following insight can be drawn from the confusion matrcies:\n",
    "\n",
    "###### Logisitc Regression model\n",
    "*  The cases when there were no revenue and the model actually predicted no revenue is 3056.This is also known as <b>True Negatives (TN)</b>\n",
    "\n",
    "\n",
    "*  The cases when there were revenue and the model actually predicted  revenue is 192.This is also known as <b>True Positives (TP)</b>\n",
    "\n",
    "\n",
    "*  The case when there were no revenue and the model actually predicted revenue is 68.This is also known as <b>False Positives (FP)</b>\n",
    "\n",
    "\n",
    "*  The case when there were revenue and the model actually predicted no revenue is 383.This is also known as <b>False Negatives (FN)</b>\n",
    "\n",
    "\n",
    "\n",
    "###### SVM model\n",
    "*  The cases when there were no revenue and the model actually predicted no revenue is 3124.This is also known as <b>True Negatives (TN)</b>\n",
    "\n",
    "\n",
    "*  The cases when there were revenue and the model actually predicted  revenue is 1.This is also known as <b>True Positives (TP)</b>\n",
    "\n",
    "\n",
    "*  The case when there were no revenue and the model actually predicted revenue is 0.This is also known as <b>False Positives (FP)</b>\n",
    "\n",
    "\n",
    "*  The case when there were revenue and the model actually predicted no revenue is 574.This is also known as <b>False Negatives (FN)</b>\n",
    "\n",
    "Following metrics can be determined from the values in a confusion matrix:\n",
    "\n",
    "$$\n",
    "Precision\n",
    "=\n",
    "\\frac{TP }{TP+FP}\n",
    "$$\n",
    "\n",
    "$$\n",
    "Recall \n",
    "=\n",
    "\\frac{TP}{TP+FN}\n",
    "$$\n",
    "\n",
    "$$\n",
    "Accuracy \n",
    "=\n",
    "\\frac{TP+TN}{TP+TN+FP+FN}\n",
    "$$\n",
    "\n",
    "$$\n",
    "F1-score \n",
    "=\n",
    "\\frac{2*Precision*Recall}{Precision+Recall}\n",
    "$$\n",
    "\n",
    "\n",
    "\n",
    "|   |   |   |   |   \n",
    "|---|---|---|---|\n",
    "||<b>Logisitc Regression model</b>|<b>SVM model</b>|\n",
    "|Accuracy|0.88|0.84|\n",
    "|Precision|0.74|1|\n",
    "|Recall|0.33|0.001|\n",
    "|F1-score|0.46|0.0018|\n",
    "\n",
    "\n",
    "The accuracy for respectively model is the same as we saw earlier. The models looks quite good based on these values, however, as mentioned earlier the data set is imbalanced. This cause the model to calculate the accuracy on the dominating class (No revenue). \n",
    "\n",
    "Recall and precision are better metrics for these kind of data sets. The recall for logisitc regression and SVM are 0.33 and 0.001 respectively. This means that 33% of the purchased (revenue) customers were correctly identified with <b>logistic regression</b> model and 0.1% with <b>SVM</b> model. A low recall for this data set means that the model have difficulties to identify customers who have purhcased. The precision for logisitc regression and SVM are 0.74 and 1 respectively. This means that 74% of the customers who did not purchase (no revenue) were correctly identified for <b>logistic regression</b> model and 100% with <b>SVM</b> model. \n",
    "\n",
    "\n",
    "F1-score is good measure to get a full picture instead of just looking at precision and recall. F1-score ranges from 0 to 1 where 1 is perfect precision and recall."
   ]
  },
  {
   "cell_type": "markdown",
   "metadata": {},
   "source": [
    "### Precision-Recall curve<a id='pr-curve'></a>"
   ]
  },
  {
   "cell_type": "code",
   "execution_count": 18,
   "metadata": {},
   "outputs": [
    {
     "data": {
      "image/png": "[encoded data removed]",
      "text/plain": [
       "<Figure size 432x288 with 1 Axes>"
      ]
     },
     "metadata": {
      "needs_background": "light"
     },
     "output_type": "display_data"
    }
   ],
   "source": [
    "plot_precision_recall_curve(lr,X_test, y_test,ax = plt.gca())\n",
    "plot_precision_recall_curve(svc,X_test, y_test,ax = plt.gca())\n",
    "plt.title('Precission Recall Curve: Logisitic Regression vs Support vector machine ')\n",
    "plt.show()"
   ]
  },
  {
   "cell_type": "markdown",
   "metadata": {},
   "source": [
    "Precision-Recall curve tells us the trade-off between these two parameters. A good model should be as close as possible to the top right corner. From the curves one can see that if we want a high recall we have to sacriface precision, especially for a recall of 85 or more."
   ]
  },
  {
   "cell_type": "code",
   "execution_count": 19,
   "metadata": {},
   "outputs": [
    {
     "name": "stdout",
     "output_type": "stream",
     "text": [
      "Logisitc Regression: \n",
      "              precision    recall  f1-score   support\n",
      "\n",
      "  No Revenue       0.89      0.98      0.93      3124\n",
      "     Revenue       0.74      0.33      0.46       575\n",
      "\n",
      "    accuracy                           0.88      3699\n",
      "   macro avg       0.81      0.66      0.70      3699\n",
      "weighted avg       0.87      0.88      0.86      3699\n",
      "\n",
      "\n",
      "Support vector machine: \n",
      "              precision    recall  f1-score   support\n",
      "\n",
      "  No Revenue       0.84      1.00      0.92      3124\n",
      "     Revenue       1.00      0.00      0.00       575\n",
      "\n",
      "    accuracy                           0.84      3699\n",
      "   macro avg       0.92      0.50      0.46      3699\n",
      "weighted avg       0.87      0.84      0.77      3699\n",
      "\n"
     ]
    }
   ],
   "source": [
    "print('Logisitc Regression: ')\n",
    "print(classification_report(y_test,y_pred_lr,target_names=['No Revenue','Revenue']))\n",
    "print('\\nSupport vector machine: ')\n",
    "print(classification_report(y_test,y_pred_svc,target_names=['No Revenue','Revenue']))"
   ]
  },
  {
   "cell_type": "markdown",
   "metadata": {},
   "source": [
    "Classification reports of the two models show a more comprehensive summary of all the mentioned metrics for respectively classes. The row <i>Revenue</i> for respectively model are the same values as in table above. \n",
    "\n",
    "The models are not good at predicting an unbalanced model. On method is to over-sample the minority class with SMOTE(Synthetic Minority Oversampling Technique). What will happen is that minority class will be duplicated and become equal to the majority class. This will be performed for rain and test data and then fit to our machine learning models. "
   ]
  },
  {
   "cell_type": "markdown",
   "metadata": {},
   "source": [
    "## Over-sampling with SMOTE <a id='smote'></a>"
   ]
  },
  {
   "cell_type": "code",
   "execution_count": 20,
   "metadata": {},
   "outputs": [
    {
     "data": {
      "image/png": "[encoded data removed]",
      "text/plain": [
       "<Figure size 720x288 with 4 Axes>"
      ]
     },
     "metadata": {
      "needs_background": "light"
     },
     "output_type": "display_data"
    }
   ],
   "source": [
    "oversample = SMOTE(sampling_strategy='minority',random_state=42)\n",
    "\n",
    "X_train, X_test, y_train, y_test = train_test_split(X, y, test_size=0.3, random_state=42)\n",
    "X_train, y_train = oversample.fit_resample(X_train, y_train)\n",
    "lr_model_smote = LogisticRegression(max_iter=10000,**lr_grid.best_params_)\n",
    "svc_model_smote = svm.SVC(**svc_grid.best_params_)\n",
    "lr_model_smote.fit(X_train,y_train)\n",
    "svc_model_smote.fit(X_train,y_train)\n",
    "X_test, y_test = oversample.fit_resample(X_test, y_test)\n",
    "\n",
    "y_pred_lr = lr_model_smote.predict(X_test)\n",
    "y_pred_svc = svc_model_smote.predict(X_test)\n",
    "\n",
    "fig, axes = plt.subplots(1,2,figsize=(10,4))\n",
    "sns.heatmap(confusion_matrix(y_test,y_pred_lr),\n",
    "            annot=True,\n",
    "            fmt=\"d\",\n",
    "            cmap=\"BuGn\",\n",
    "            xticklabels=['No Revenue','Revenue'],\n",
    "            yticklabels=['No Revenue','Revenue'],\n",
    "            ax=axes[0])\n",
    "axes[0].set_xlabel('Predicted values')\n",
    "sns.heatmap(confusion_matrix(y_test,y_pred_svc),\n",
    "            annot=True,\n",
    "            fmt=\"d\",\n",
    "            cmap=\"BuGn\",\n",
    "            xticklabels=['No Revenue','Revenue'],\n",
    "            yticklabels=['No Revenue','Revenue'],\n",
    "            ax=axes[1])\n",
    "axes[0].set_title('Logisitic Regression')\n",
    "axes[1].set_title('SVM')\n",
    "axes[1].set_xlabel('Predicted values')\n",
    "axes[0].set_ylabel('Actual values')\n",
    "plt.show()"
   ]
  },
  {
   "cell_type": "markdown",
   "metadata": {},
   "source": [
    " The <b>True positive</b> (2377 for logistic regression and 2890 for SVM) is now much higher for respectively confusion matrix which means that the recall is also higher. "
   ]
  },
  {
   "cell_type": "code",
   "execution_count": 21,
   "metadata": {},
   "outputs": [
    {
     "data": {
      "image/png": "[encoded data removed]",
      "text/plain": [
       "<Figure size 432x288 with 1 Axes>"
      ]
     },
     "metadata": {
      "needs_background": "light"
     },
     "output_type": "display_data"
    }
   ],
   "source": [
    "plot_precision_recall_curve(lr_model_smote,X_test, y_test,ax = plt.gca())\n",
    "plot_precision_recall_curve(svc_model_smote,X_test, y_test,ax = plt.gca())\n",
    "plt.title('Precission Recall Curve: Logisitic Regression vs Support vector machine after over-sampling')\n",
    "plt.show()"
   ]
  },
  {
   "cell_type": "markdown",
   "metadata": {},
   "source": [
    "The precision-recall curve is better for the both models compared to the imbalanced one now. The logistic regression model is more stable because of precision is fairly stable until around 85. "
   ]
  },
  {
   "cell_type": "code",
   "execution_count": 22,
   "metadata": {},
   "outputs": [
    {
     "name": "stdout",
     "output_type": "stream",
     "text": [
      "Logistic Regression:\n",
      "              precision    recall  f1-score   support\n",
      "\n",
      "  No Revenue       0.79      0.91      0.85      3124\n",
      "     Revenue       0.90      0.76      0.82      3124\n",
      "\n",
      "    accuracy                           0.84      6248\n",
      "   macro avg       0.85      0.84      0.84      6248\n",
      "weighted avg       0.85      0.84      0.84      6248\n",
      "\n",
      "\n",
      "Support vector machine:\n",
      "              precision    recall  f1-score   support\n",
      "\n",
      "  No Revenue       0.84      0.58      0.69      3124\n",
      "     Revenue       0.68      0.89      0.77      3124\n",
      "\n",
      "    accuracy                           0.73      6248\n",
      "   macro avg       0.76      0.73      0.73      6248\n",
      "weighted avg       0.76      0.73      0.73      6248\n",
      "\n"
     ]
    }
   ],
   "source": [
    "print('Logistic Regression:')\n",
    "print(classification_report(y_test,y_pred_lr,target_names=['No Revenue','Revenue']))\n",
    "print('\\nSupport vector machine:')\n",
    "print(classification_report(y_test,y_pred_svc,target_names=['No Revenue','Revenue']))"
   ]
  },
  {
   "cell_type": "markdown",
   "metadata": {},
   "source": [
    "The classification reports  show much better values now after balancing the classes. Overall the Logisitc regression model performs better based on the F1-score."
   ]
  },
  {
   "cell_type": "markdown",
   "metadata": {},
   "source": [
    "# Conclusion<a id='conclusion'></a>\n",
    "\n",
    "\n",
    "*   In this project data analysis has been performed to get a better insight and recommendation have been suggested to improve conversion and retention. \n",
    "*   Two machine learning models were performed to predict purchase or not\n",
    "*   Different metrics where used to show how to evaluate an imbalance data set\n",
    "*   SMOTE were used to balance the data set. Result shows that logistic regression is a better model for prediction"
   ]
  }
 ],
 "metadata": {
  "kernelspec": {
   "display_name": "Python 3",
   "language": "python",
   "name": "python3"
  },
  "language_info": {
   "codemirror_mode": {
    "name": "ipython",
    "version": 3
   },
   "file_extension": ".py",
   "mimetype": "text/x-python",
   "name": "python",
   "nbconvert_exporter": "python",
   "pygments_lexer": "ipython3",
   "version": "3.7.9"
  }
 },
 "nbformat": 4,
 "nbformat_minor": 4
}
